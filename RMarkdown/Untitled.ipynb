{
 "cells": [
  {
   "cell_type": "markdown",
   "metadata": {},
   "source": [
    "## Introduction\n",
    "\n",
    "* In this class we will be discussing problems of similarity that arise during general data analysis problems.\n",
    "\n",
    "* In most of the cases these may be divided in two main types:\n",
    "    1. Comparisons of distributions in order to assess general differences\n",
    "    2. Comparisons of objects in order to create meaningful clustering/partitions\n",
    "\n",
    "* We will study the above concepts using a hands-on approach through actual programming with the use of the R programming and data analysis environment\n",
    "\n",
    "    \n",
    "## Part A. An Introduction to R\n",
    "\n",
    "### Using R for data analysis   \n",
    "We will use [R](https://www.r-project.org/about.html) in order to analyze data and perform a large number of statistical tests. R is basically a programming environment that allows the user to apply a lot of predefined functions without having to program him/herself.\n",
    "\n",
    "In the following chapters we will include R code in the flow of the class content but I urge you to do some reading by yourselves from a number of interesting and useful resources, shown below:\n",
    "\n",
    "* [An introduction to R](https://biocorecrg.github.io/CRG_RIntroduction/)\n",
    "* [R in Codecademy](https://www.codecademy.com/learn/learn-r)\n",
    "\n",
    "In the meanwhile I will try to help with additional material from my book (in Greek) whenever there is need. \n",
    "\n",
    "The main focus though will be a hands-on approach, through which we will be discussing code for practical purposes and always with the aim of solving particular problems. \n",
    "\n",
    "### Installing and using R\n",
    "I strongly suggest that you install [R](https://www.r-project.org/) and [R-Studio](https://www.rstudio.com/) in order for you to use R and follow the material posted for the class. An alternative may be to use [R Studio over the cloud](https://rstudio.cloud/projects) by registering for free.  \n",
    "\n",
    "Once you have done this you may easily reproduce all the analyses we will be discussing in \"class\" and then modify and explore the code accordingly for your own work and assignments. \n",
    "\n",
    "### Creating and Loading data in R\n",
    "\n",
    "### Simple Variables \n",
    "\n",
    "We will start by seeing how we create variables in R. Variables may either be singular values like:"
   ]
  },
  {
   "cell_type": "code",
   "execution_count": 1,
   "metadata": {},
   "outputs": [
    {
     "name": "stdout",
     "output_type": "stream",
     "text": [
      "[1] 25\n"
     ]
    }
   ],
   "source": [
    "x<-5\n",
    "print(x**2)"
   ]
  }
 ],
 "metadata": {
  "kernelspec": {
   "display_name": "R",
   "language": "R",
   "name": "ir"
  },
  "language_info": {
   "codemirror_mode": "r",
   "file_extension": ".r",
   "mimetype": "text/x-r-source",
   "name": "R",
   "pygments_lexer": "r",
   "version": "3.6.3"
  }
 },
 "nbformat": 4,
 "nbformat_minor": 4
}
